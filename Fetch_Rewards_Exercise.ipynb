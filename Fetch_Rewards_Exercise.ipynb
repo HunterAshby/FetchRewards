{
  "nbformat": 4,
  "nbformat_minor": 0,
  "metadata": {
    "colab": {
      "name": "Fetch Rewards Exercise.ipynb",
      "provenance": [],
      "authorship_tag": "ABX9TyMPt8xXu6jvcLMRnYHPejIm",
      "include_colab_link": true
    },
    "kernelspec": {
      "name": "python3",
      "display_name": "Python 3"
    }
  },
  "cells": [
    {
      "cell_type": "markdown",
      "metadata": {
        "id": "view-in-github",
        "colab_type": "text"
      },
      "source": [
        "<a href=\"https://colab.research.google.com/github/HunterAshby/FetchRewards/blob/main/Fetch_Rewards_Exercise.ipynb\" target=\"_parent\"><img src=\"https://colab.research.google.com/assets/colab-badge.svg\" alt=\"Open In Colab\"/></a>"
      ]
    },
    {
      "cell_type": "markdown",
      "metadata": {
        "id": "iHQChDYMdwMF"
      },
      "source": [
        "##Fetch Rewards NLP Exercise without using libraries."
      ]
    },
    {
      "cell_type": "code",
      "metadata": {
        "id": "J5F6pYS7dHFT"
      },
      "source": [
        "#Loading given samples into workable variables\r\n",
        "sample_one = \"The easiest way to earn points with Fetch Rewards is to just shop for the products you already love. If you have any participating brands on your receipt, you'll get points based on the cost of the products. You don't need to clip any coupons or scan individual barcodes. Just scan each grocery receipt after you shop and we'll find the savings for you.\"\r\n",
        "sample_two = \"The easiest way to earn points with Fetch Rewards is to just shop for the items you already buy. If you have any eligible brands on your receipt, you will get points based on the total cost of the products. You do not need to cut out any coupons or scan individual UPCs. Just scan your receipt after you check out and we will find the savings for you.\"\r\n",
        "sample_three = \"We are always looking for opportunities for you to earn more points, which is why we also give you a selection of Special Offers. These Special Offers are opportunities to earn bonus points on top of the regular points you earn every time you purchase a participating brand. No need to pre-select these offers, we'll give you the points whether or not you knew about the offer. We just think it is easier that way.\""
      ],
      "execution_count": 274,
      "outputs": []
    },
    {
      "cell_type": "code",
      "metadata": {
        "id": "QcsVXjeXeBMG"
      },
      "source": [
        "#Build a functions that can first compare \r\n",
        "#two given words output 0-1 1 if exact match\r\n",
        "def compare_word_similarity(word_one: str, word_two: str) -> float:\r\n",
        "  \"\"\"\r\n",
        "  Input: Two words that need to be compared for similarity\r\n",
        "\r\n",
        "  Output: A score between 0 and 1 to show the similarity of the words\r\n",
        "\r\n",
        "  The function works by comparing the length of the words and the letters\r\n",
        "  used in the words. The length of the words is worth 50% and the letters are\r\n",
        "  worth the remaining 50%\r\n",
        "  \"\"\"\r\n",
        "\r\n",
        "  #Find the length difference in words using a percentage,\r\n",
        "  #Shorter word divided by longer word will be the standard\r\n",
        "  word_list = [word_one, word_two]\r\n",
        "  if len(word_two) > len(word_one):\r\n",
        "    word_list = [word_two, word_one]\r\n",
        "\r\n",
        "  length_score = len(word_list[1]) / len(word_list[0])\r\n",
        "\r\n",
        "  #Now we need to find the letter similarity score\r\n",
        "  #First check if the words are equal\r\n",
        "  if word_one == word_two:\r\n",
        "    letter_score = 1\r\n",
        "\r\n",
        "  #If not we move on to checking all the letters themselves\r\n",
        "  else:\r\n",
        "    #intantiate a dictionary to store letter values\r\n",
        "    letters = {}\r\n",
        "    for word in word_list:\r\n",
        "      #loop over words checking if the letters have already been counted, and\r\n",
        "      #counting the ones that have yet to be counted\r\n",
        "      for letter in word:\r\n",
        "        if letter not in letters.keys():\r\n",
        "          letters[letter] = word.count(letter)\r\n",
        "        #Once on the second word, subtract the letters that appear in both the \r\n",
        "        #first word and the second word to get a similiarity\r\n",
        "        elif word_list.index(word) != 0:\r\n",
        "          letters[letter] = letters[letter] - word.count(letter)\r\n",
        "    #Sum up the letter differences\r\n",
        "    letter_diff = sum(letters.values())\r\n",
        "\r\n",
        "    #Turn the letter simiarity into a value between 0 and 1\r\n",
        "    letter_diff = letter_diff / (len(word_one) + len(word_two))\r\n",
        "\r\n",
        "    #Find the inverse of the letter score to make the numbers right\r\n",
        "    letter_score = 1 - letter_diff\r\n",
        "\r\n",
        "    #Combine the two scores to get a similarity score for the two words\r\n",
        "  similarity_score = (50 * length_score) + (50 * letter_score)\r\n",
        "  return similarity_score / 100"
      ],
      "execution_count": 275,
      "outputs": []
    },
    {
      "cell_type": "markdown",
      "metadata": {
        "id": "OMLveePswBJR"
      },
      "source": [
        "##We have a word comparing machine that works, now we need to preprocess the samples and then pass in pairs of words at a time"
      ]
    },
    {
      "cell_type": "code",
      "metadata": {
        "id": "wTwfy2tqyoBK"
      },
      "source": [
        "def remove_punctuation(string: str) -> str:\r\n",
        "  \"\"\"\r\n",
        "  Input: string that needs it's punctuation removed\r\n",
        "\r\n",
        "  Output: string with its punctuation removed\r\n",
        "  \"\"\"\r\n",
        "  punc = '''!()-[]{};:'\"\\,<>./?@#$%^&*_~'''\r\n",
        "  for letter in string:\r\n",
        "    if letter in punc:\r\n",
        "      string = string.replace(letter, \"\")\r\n",
        "  return string"
      ],
      "execution_count": 276,
      "outputs": []
    },
    {
      "cell_type": "code",
      "metadata": {
        "id": "h79QvobD3t0a"
      },
      "source": [
        "def make_list_chunks(lst: list, size: int) -> list:\r\n",
        "  \"\"\"\r\n",
        "  Input: list that needs to be split into chunks of n size\r\n",
        "\r\n",
        "  Output: A list of lists made from input list\r\n",
        "  \"\"\"\r\n",
        "  for i in range(0, len(lst), size):\r\n",
        "    yield lst[i:i + size]\r\n",
        "  "
      ],
      "execution_count": 277,
      "outputs": []
    },
    {
      "cell_type": "code",
      "metadata": {
        "id": "hC6VvuZC59Ob"
      },
      "source": [
        "def turn_chunks_into_str(lst: list) -> list:\r\n",
        "  \"\"\"\r\n",
        "  Input: a list that has been chunked into sizes\r\n",
        "\r\n",
        "  Output: a list where the chunks have been turned into\r\n",
        "  consecutive strings\r\n",
        "  \"\"\"\r\n",
        "  return_list = []\r\n",
        "  for i in lst:\r\n",
        "    str_i = str(i)\r\n",
        "    str_i = remove_punctuation(str_i)\r\n",
        "    return_list.append(str_i)\r\n",
        "  return return_list"
      ],
      "execution_count": 278,
      "outputs": []
    },
    {
      "cell_type": "code",
      "metadata": {
        "id": "tfuXL6HVurFe"
      },
      "source": [
        "def compare_phrases(phrase_one: str, phrase_two: str) -> float:\r\n",
        "  \"\"\"\r\n",
        "  Input: Two phrases you want to compare\r\n",
        "\r\n",
        "  Output: A value between 0 and 1 comparing the similarity of the phrases\r\n",
        "\r\n",
        "  Using the word similarity function above, we do preprocessing and compare \r\n",
        "  entire phases with this function, we will compare word similarity and length\r\n",
        "  similarity using a 50 50 split for the scores\r\n",
        "  \"\"\"\r\n",
        "  #First do basic preprocessing, remove punctuation lowercase all letters, that\r\n",
        "  #sort of thing\r\n",
        "  phrase_one = phrase_one.lower()\r\n",
        "  phrase_two = phrase_two.lower()\r\n",
        "  phrase_one = remove_punctuation(phrase_one)\r\n",
        "  phrase_two = remove_punctuation(phrase_two)\r\n",
        "\r\n",
        "  #Transform phrases into lists for comparison\r\n",
        "  list_one = phrase_one.split()\r\n",
        "  list_two = phrase_two.split()\r\n",
        "\r\n",
        "  #Find the length score\r\n",
        "  if len(list_one) <= len(list_two):\r\n",
        "    length_score = len(list_one) / len(list_two)\r\n",
        "\r\n",
        "  elif len(list_one) > len(list_two):\r\n",
        "    length_score = len(list_two) / len(list_one)\r\n",
        "  \r\n",
        "  #Find the word score\r\n",
        "  #I am going to take groups of words and compare them, as small changes in\r\n",
        "  #sentence structure could place words in a bad spot to be compared for example\r\n",
        "  #compering your with reciept, when both words are in the samples\r\n",
        "  list_one = list(make_list_chunks(list_one, 1))\r\n",
        "  list_two = list(make_list_chunks(list_two, 1))\r\n",
        "  list_one = turn_chunks_into_str(list_one)\r\n",
        "  list_two = turn_chunks_into_str(list_two)\r\n",
        "  \r\n",
        "  #Set lists to same length\r\n",
        "  if len(list_one) < len(list_two):\r\n",
        "    for i in range(len(list_two) - len(list_one)):\r\n",
        "      list_one.append(\"\")\r\n",
        "\r\n",
        "  elif len(list_one) > len(list_two):\r\n",
        "    for i in range(len(list_one) - len(list_two)):\r\n",
        "      list_two.append(\"\")\r\n",
        "  \r\n",
        "  #Now these two lists can have their words passed into the word compare machine\r\n",
        "  running_word_score = 0\r\n",
        "  for e, i in enumerate(list_one):\r\n",
        "    running_word_score += compare_word_similarity(i, list_two[e])\r\n",
        "  \r\n",
        "  word_score = running_word_score / len(list_one)\r\n",
        "\r\n",
        "  similarity_score = (word_score * 50) + (length_score * 50)\r\n",
        "  return similarity_score / 100"
      ],
      "execution_count": 279,
      "outputs": []
    },
    {
      "cell_type": "code",
      "metadata": {
        "colab": {
          "base_uri": "https://localhost:8080/"
        },
        "id": "WhNHOhM7zSNS",
        "outputId": "736e28af-fbc3-481d-d938-d3309b7566c9"
      },
      "source": [
        "compare_phrases(sample_one, sample_two)"
      ],
      "execution_count": 280,
      "outputs": [
        {
          "output_type": "execute_result",
          "data": {
            "text/plain": [
              "0.7717423880467359"
            ]
          },
          "metadata": {
            "tags": []
          },
          "execution_count": 280
        }
      ]
    },
    {
      "cell_type": "code",
      "metadata": {
        "colab": {
          "base_uri": "https://localhost:8080/"
        },
        "id": "Lwx_etnzzY1j",
        "outputId": "ed7d0a2f-f130-4813-bdde-66d0a27a3151"
      },
      "source": [
        "compare_phrases(sample_one, sample_three)"
      ],
      "execution_count": 281,
      "outputs": [
        {
          "output_type": "execute_result",
          "data": {
            "text/plain": [
              "0.6215546207032275"
            ]
          },
          "metadata": {
            "tags": []
          },
          "execution_count": 281
        }
      ]
    },
    {
      "cell_type": "code",
      "metadata": {
        "id": "-9DaqubPF_rl"
      },
      "source": [
        ""
      ],
      "execution_count": null,
      "outputs": []
    }
  ]
}